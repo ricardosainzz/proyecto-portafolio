{
 "cells": [
  {
   "cell_type": "code",
   "execution_count": 1,
   "id": "8f7c816c-08cf-473c-af15-717aa11edeb9",
   "metadata": {},
   "outputs": [],
   "source": [
    "import pandas as pd"
   ]
  },
  {
   "cell_type": "code",
   "execution_count": null,
   "id": "dfea3481-01cf-446d-a44c-db74c5f36de6",
   "metadata": {},
   "outputs": [],
   "source": [
    "pd.read_csv('./../data')"
   ]
  }
 ],
 "metadata": {
  "kernelspec": {
   "display_name": "Python 3 (ipykernel)",
   "language": "python",
   "name": "python3"
  },
  "language_info": {
   "codemirror_mode": {
    "name": "ipython",
    "version": 3
   },
   "file_extension": ".py",
   "mimetype": "text/x-python",
   "name": "python",
   "nbconvert_exporter": "python",
   "pygments_lexer": "ipython3",
   "version": "3.9.12"
  }
 },
 "nbformat": 4,
 "nbformat_minor": 5
}
