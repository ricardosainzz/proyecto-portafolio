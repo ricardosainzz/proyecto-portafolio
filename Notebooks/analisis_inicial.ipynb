{
 "cells": [
  {
   "cell_type": "code",
   "execution_count": 8,
   "id": "1a2b7127-8729-460b-931e-0414a4c3eca9",
   "metadata": {},
   "outputs": [],
   "source": [
    "import pandas as pd"
   ]
  },
  {
   "cell_type": "code",
   "execution_count": 9,
   "id": "79f8d6cf-2415-4ec0-9765-343d3f47047f",
   "metadata": {},
   "outputs": [],
   "source": [
    "datos_grandes = pd.read_csv('./../data/creditcard.csv', delimiter = ';')"
   ]
  },
  {
   "cell_type": "code",
   "execution_count": 10,
   "id": "d531f8fc-7db8-45bb-92f2-085c0faee2db",
   "metadata": {},
   "outputs": [],
   "source": [
    "datos_resumen = datos_grandes.head(10)"
   ]
  },
  {
   "cell_type": "code",
   "execution_count": 12,
   "id": "5dc918bb-8edb-4d90-85aa-ac9e59fbe97d",
   "metadata": {},
   "outputs": [],
   "source": [
    "datos_resumen.to_csv('datos_resumen.csv')"
   ]
  },
  {
   "cell_type": "code",
   "execution_count": null,
   "id": "94f0cfd3-8e93-4ce9-9606-29b076a1899f",
   "metadata": {},
   "outputs": [],
   "source": []
  }
 ],
 "metadata": {
  "kernelspec": {
   "display_name": "Python 3 (ipykernel)",
   "language": "python",
   "name": "python3"
  },
  "language_info": {
   "codemirror_mode": {
    "name": "ipython",
    "version": 3
   },
   "file_extension": ".py",
   "mimetype": "text/x-python",
   "name": "python",
   "nbconvert_exporter": "python",
   "pygments_lexer": "ipython3",
   "version": "3.9.12"
  }
 },
 "nbformat": 4,
 "nbformat_minor": 5
}
